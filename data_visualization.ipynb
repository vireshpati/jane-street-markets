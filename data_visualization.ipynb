{
 "cells": [
  {
   "cell_type": "code",
   "execution_count": null,
   "id": "614340fe-7bad-48ac-80ac-410d7966f9a9",
   "metadata": {
    "vscode": {
     "languageId": "python"
    }
   },
   "outputs": [],
   "source": [
    "import polars as pl\n",
    "import numpy as np\n",
    "import plotly.express as px\n",
    "import plotly.graph_objects as go\n",
    "from plotly.subplots import make_subplots\n",
    "from tqdm.notebook import tqdm"
   ]
  },
  {
   "cell_type": "code",
   "execution_count": null,
   "id": "5e4ba120",
   "metadata": {
    "vscode": {
     "languageId": "python"
    }
   },
   "outputs": [],
   "source": [
    "# Load the first partition of training data\n",
    "df = pl.scan_parquet('train.parquet/partition_id=0/part-0.parquet').collect()\n",
    "\n",
    "# Get feature and responder columns\n",
    "feature_cols = [col for col in df.columns if 'feature' in col]\n",
    "responder_cols = [col for col in df.columns if 'responder' in col]\n",
    "\n",
    "print(f'Dataset shape: {df.shape}')\n",
    "print(f'Number of features: {len(feature_cols)}')\n",
    "print(f'Number of responders: {len(responder_cols)}')"
   ]
  },
  {
   "cell_type": "code",
   "execution_count": null,
   "id": "4da8f315",
   "metadata": {
    "vscode": {
     "languageId": "python"
    }
   },
   "outputs": [],
   "source": [
    "# Calculate basic statistics for features\n",
    "stats = df.select(feature_cols).describe()\n",
    "display(stats)\n",
    "\n",
    "# Calculate basic statistics for responders\n",
    "responder_stats = df.select(responder_cols).describe()\n",
    "display(responder_stats)"
   ]
  },
  {
   "cell_type": "code",
   "execution_count": null,
   "id": "c4d574fd",
   "metadata": {
    "vscode": {
     "languageId": "python"
    }
   },
   "outputs": [],
   "source": [
    "# Plot feature distributions\n",
    "fig = make_subplots(rows=3, cols=3, subplot_titles=feature_cols[:9])\n",
    "\n",
    "for idx, feature in enumerate(feature_cols[:9]):\n",
    "    row = idx // 3 + 1\n",
    "    col = idx % 3 + 1\n",
    "    \n",
    "    values = df.get_column(feature).to_numpy()\n",
    "    \n",
    "    fig.add_trace(\n",
    "        go.Histogram(x=values, name=feature, nbinsx=50),\n",
    "        row=row, col=col\n",
    "    )\n",
    "\n",
    "fig.update_layout(\n",
    "    height=900,\n",
    "    width=1200,\n",
    "    showlegend=False,\n",
    "    title_text='Feature Distributions'\n",
    ")\n",
    "fig.show()"
   ]
  },
  {
   "cell_type": "code",
   "execution_count": null,
   "id": "612a6609",
   "metadata": {
    "vscode": {
     "languageId": "python"
    }
   },
   "outputs": [],
   "source": [
    "# Plot responder distributions\n",
    "fig = make_subplots(rows=3, cols=3, subplot_titles=responder_cols)\n",
    "\n",
    "for idx, responder in enumerate(responder_cols):\n",
    "    row = idx // 3 + 1\n",
    "    col = idx % 3 + 1\n",
    "    \n",
    "    values = df.get_column(responder).to_numpy()\n",
    "    \n",
    "    fig.add_trace(\n",
    "        go.Histogram(x=values, name=responder, nbinsx=50),\n",
    "        row=row, col=col\n",
    "    )\n",
    "\n",
    "fig.update_layout(\n",
    "    height=900,\n",
    "    width=1200,\n",
    "    showlegend=False,\n",
    "    title_text='Responder Distributions'\n",
    ")\n",
    "fig.show()\n",
    "\n",
    "# Responder correlations\n",
    "responder_corr = df.select(responder_cols).corr()\n",
    "fig = px.imshow(\n",
    "    responder_corr,\n",
    "    labels=dict(x=\"Responders\", y=\"Responders\", color=\"Correlation\"),\n",
    "    title='Responder Correlation Matrix',\n",
    "    width=800,\n",
    "    height=800,\n",
    "    color_continuous_scale='RdBu_r'\n",
    ")\n",
    "fig.show()"
   ]
  },
  {
   "cell_type": "code",
   "execution_count": null,
   "id": "9967e06c",
   "metadata": {
    "vscode": {
     "languageId": "python"
    }
   },
   "outputs": [],
   "source": [
    "# Calculate correlation matrix for features\n",
    "corr_matrix = df.select(feature_cols).corr()\n",
    "\n",
    "# Plot correlation heatmap\n",
    "fig = px.imshow(\n",
    "    corr_matrix,\n",
    "    labels=dict(x=\"Features\", y=\"Features\", color=\"Correlation\"),\n",
    "    title='Feature Correlation Matrix',\n",
    "    width=1000,\n",
    "    height=1000,\n",
    "    color_continuous_scale='RdBu_r'\n",
    ")\n",
    "fig.show()\n",
    "\n",
    "# Find highly correlated features\n",
    "def print_high_correlations(corr_matrix, threshold=0.8):\n",
    "    high_corr = []\n",
    "    for i in range(len(corr_matrix)):\n",
    "        for j in range(i+1, len(corr_matrix)):\n",
    "            if abs(corr_matrix[i, j]) > threshold:\n",
    "                high_corr.append((feature_cols[i], feature_cols[j], corr_matrix[i, j]))\n",
    "    \n",
    "    print(f\"\\nFeature pairs with correlation > {threshold}:\")\n",
    "    for f1, f2, corr in sorted(high_corr, key=lambda x: abs(x[2]), reverse=True):\n",
    "        print(f\"{f1:12} -- {f2:12}: {corr:.3f}\")\n",
    "\n",
    "print_high_correlations(corr_matrix.to_numpy())"
   ]
  },
  {
   "cell_type": "code",
   "execution_count": null,
   "id": "abc3fbe8",
   "metadata": {
    "vscode": {
     "languageId": "python"
    }
   },
   "outputs": [],
   "source": [
    "# Analyze relationships between features and target responder\n",
    "def plot_feature_target_relationships(df, features, target='responder_6', n_features=9):\n",
    "    fig = make_subplots(rows=3, cols=3, subplot_titles=features[:n_features])\n",
    "    \n",
    "    for idx, feature in enumerate(features[:n_features]):\n",
    "        row = idx // 3 + 1\n",
    "        col = idx % 3 + 1\n",
    "        \n",
    "        # Sample data for better visualization\n",
    "        sample_df = df.sample(n=1000, seed=42)\n",
    "        x_vals = sample_df.get_column(feature).to_numpy()\n",
    "        y_vals = sample_df.get_column(target).to_numpy()\n",
    "        \n",
    "        fig.add_trace(\n",
    "            go.Scatter(\n",
    "                x=x_vals,\n",
    "                y=y_vals,\n",
    "                mode='markers',\n",
    "                marker=dict(size=3, opacity=0.5),\n",
    "                name=feature\n",
    "            ),\n",
    "            row=row, col=col\n",
    "        )\n",
    "    \n",
    "    fig.update_layout(\n",
    "        height=900,\n",
    "        width=1200,\n",
    "        showlegend=False,\n",
    "        title_text=f'Feature vs {target} Relationships'\n",
    "    )\n",
    "    fig.show()\n",
    "\n",
    "plot_feature_target_relationships(df, feature_cols)\n",
    "\n",
    "# Calculate feature importance based on correlation with target\n",
    "target_correlations = abs(df.select(feature_cols + ['responder_6']).corr()['responder_6'][:-1])\n",
    "importance_df = pl.DataFrame({\n",
    "    'feature': feature_cols,\n",
    "    'correlation': target_correlations\n",
    "}).sort('correlation', descending=True)\n",
    "\n",
    "fig = px.bar(\n",
    "    importance_df.to_pandas(),\n",
    "    x='feature',\n",
    "    y='correlation',\n",
    "    title='Absolute Correlation with Target (responder_6)',\n",
    "    width=1200,\n",
    "    height=500\n",
    ")\n",
    "fig.update_xaxes(tickangle=45)\n",
    "fig.show()"
   ]
  },
  {
   "cell_type": "code",
   "execution_count": null,
   "id": "ad94d6a3",
   "metadata": {
    "vscode": {
     "languageId": "python"
    }
   },
   "outputs": [],
   "source": [
    "# Analyze temporal patterns\n",
    "def plot_time_series_patterns(df, cols, n_symbols=3):\n",
    "    # Get first n symbols\n",
    "    symbols = df['symbol_id'].unique()[:n_symbols]\n",
    "    \n",
    "    fig = make_subplots(rows=len(cols), cols=1, \n",
    "                       subplot_titles=cols,\n",
    "                       vertical_spacing=0.1)\n",
    "    \n",
    "    for i, col in enumerate(cols):\n",
    "        for symbol in symbols:\n",
    "            symbol_data = df.filter(pl.col('symbol_id') == symbol)\n",
    "            \n",
    "            fig.add_trace(\n",
    "                go.Scatter(\n",
    "                    x=symbol_data['time_id'].to_numpy(),\n",
    "                    y=symbol_data[col].to_numpy(),\n",
    "                    name=f'Symbol {symbol} - {col}',\n",
    "                    mode='lines'\n",
    "                ),\n",
    "                row=i+1, col=1\n",
    "            )\n",
    "    \n",
    "    fig.update_layout(height=300*len(cols), showlegend=True,\n",
    "                     title_text='Time Series Patterns by Symbol')\n",
    "    fig.show()\n",
    "\n",
    "# Plot patterns for target and a few features\n",
    "plot_time_series_patterns(df, ['responder_6'] + feature_cols[:2])"
   ]
  }
 ],
 "metadata": {
  "kernelspec": {
   "display_name": "",
   "name": ""
  },
  "language_info": {
   "name": ""
  }
 },
 "nbformat": 4,
 "nbformat_minor": 5
}
